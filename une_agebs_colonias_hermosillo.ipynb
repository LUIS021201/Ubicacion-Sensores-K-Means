{
 "cells": [
  {
   "cell_type": "markdown",
   "metadata": {},
   "source": [
    "# Unir AGEBS con Colonias en Hermosillo\n",
    "Crearemos un diccionario de Colonias, con las AGEBS que las componen"
   ]
  },
  {
   "cell_type": "code",
   "execution_count": 135,
   "metadata": {
    "ExecuteTime": {
     "end_time": "2024-05-14T03:56:52.734660200Z",
     "start_time": "2024-05-14T03:56:52.672677600Z"
    }
   },
   "outputs": [
    {
     "ename": "ModuleNotFoundError",
     "evalue": "No module named 'geopandas'",
     "output_type": "error",
     "traceback": [
      "\u001B[1;31m---------------------------------------------------------------------------\u001B[0m",
      "\u001B[1;31mModuleNotFoundError\u001B[0m                       Traceback (most recent call last)",
      "Input \u001B[1;32mIn [135]\u001B[0m, in \u001B[0;36m<module>\u001B[1;34m\u001B[0m\n\u001B[0;32m      1\u001B[0m \u001B[38;5;28;01mimport\u001B[39;00m \u001B[38;5;21;01mjson\u001B[39;00m\n\u001B[1;32m----> 2\u001B[0m \u001B[38;5;28;01mimport\u001B[39;00m \u001B[38;5;21;01mgeopandas\u001B[39;00m \u001B[38;5;28;01mas\u001B[39;00m \u001B[38;5;21;01mgpd\u001B[39;00m\n\u001B[0;32m      3\u001B[0m \u001B[38;5;28;01mimport\u001B[39;00m \u001B[38;5;21;01mpandas\u001B[39;00m \u001B[38;5;28;01mas\u001B[39;00m \u001B[38;5;21;01mpd\u001B[39;00m\n\u001B[0;32m      4\u001B[0m \u001B[38;5;28;01mimport\u001B[39;00m \u001B[38;5;21;01mnumpy\u001B[39;00m \u001B[38;5;28;01mas\u001B[39;00m \u001B[38;5;21;01mnp\u001B[39;00m\n",
      "\u001B[1;31mModuleNotFoundError\u001B[0m: No module named 'geopandas'"
     ]
    }
   ],
   "source": [
    "import json\n",
    "import geopandas as gpd\n",
    "import pandas as pd\n",
    "import numpy as np\n",
    "import folium"
   ]
  },
  {
   "cell_type": "code",
   "execution_count": null,
   "metadata": {
    "ExecuteTime": {
     "start_time": "2024-05-14T03:56:52.696663400Z"
    }
   },
   "outputs": [],
   "source": [
    "archivo_geojson = 'geojson_agebs_de_sonora.json'\n",
    "geoframe = gpd.read_file(archivo_geojson,driver=\"GeoJSON\",crs=\"EPSG:4326\")\n",
    "geoframe.head()"
   ]
  },
  {
   "cell_type": "code",
   "execution_count": 136,
   "metadata": {
    "ExecuteTime": {
     "end_time": "2024-05-14T03:56:52.823661600Z",
     "start_time": "2024-05-14T03:56:52.740665800Z"
    }
   },
   "outputs": [],
   "source": [
    "#geoframe = geoframe.to_crs(epsg=3857)"
   ]
  },
  {
   "cell_type": "code",
   "execution_count": 137,
   "metadata": {
    "ExecuteTime": {
     "end_time": "2024-05-14T03:56:52.841665800Z",
     "start_time": "2024-05-14T03:56:52.801668600Z"
    }
   },
   "outputs": [
    {
     "ename": "NameError",
     "evalue": "name 'geoframe' is not defined",
     "output_type": "error",
     "traceback": [
      "\u001B[1;31m---------------------------------------------------------------------------\u001B[0m",
      "\u001B[1;31mNameError\u001B[0m                                 Traceback (most recent call last)",
      "Input \u001B[1;32mIn [137]\u001B[0m, in \u001B[0;36m<module>\u001B[1;34m\u001B[0m\n\u001B[1;32m----> 1\u001B[0m \u001B[43mgeoframe\u001B[49m\u001B[38;5;241m.\u001B[39mto_crs(\u001B[38;5;124m'\u001B[39m\u001B[38;5;124m+proj=cea\u001B[39m\u001B[38;5;124m'\u001B[39m)\u001B[38;5;241m.\u001B[39mcentroid\u001B[38;5;241m.\u001B[39mto_crs(geoframe\u001B[38;5;241m.\u001B[39mcrs)\n",
      "\u001B[1;31mNameError\u001B[0m: name 'geoframe' is not defined"
     ]
    }
   ],
   "source": [
    "geoframe.to_crs('+proj=cea').centroid.to_crs(geoframe.crs)"
   ]
  },
  {
   "cell_type": "code",
   "execution_count": 138,
   "metadata": {
    "ExecuteTime": {
     "end_time": "2024-05-14T03:56:52.898659300Z",
     "start_time": "2024-05-14T03:56:52.844669400Z"
    }
   },
   "outputs": [
    {
     "ename": "NameError",
     "evalue": "name 'geoframe' is not defined",
     "output_type": "error",
     "traceback": [
      "\u001B[1;31m---------------------------------------------------------------------------\u001B[0m",
      "\u001B[1;31mNameError\u001B[0m                                 Traceback (most recent call last)",
      "Input \u001B[1;32mIn [138]\u001B[0m, in \u001B[0;36m<module>\u001B[1;34m\u001B[0m\n\u001B[1;32m----> 1\u001B[0m geoframe[\u001B[38;5;124m'\u001B[39m\u001B[38;5;124mcentroide\u001B[39m\u001B[38;5;124m'\u001B[39m] \u001B[38;5;241m=\u001B[39m \u001B[43mgeoframe\u001B[49m\u001B[38;5;241m.\u001B[39mgeometry\u001B[38;5;241m.\u001B[39mcentroid\n\u001B[0;32m      2\u001B[0m geoframe\u001B[38;5;241m.\u001B[39mhead()\n",
      "\u001B[1;31mNameError\u001B[0m: name 'geoframe' is not defined"
     ]
    }
   ],
   "source": [
    "geoframe['centroide'] = geoframe.geometry.centroid\n",
    "geoframe.head()"
   ]
  },
  {
   "cell_type": "code",
   "execution_count": null,
   "metadata": {
    "ExecuteTime": {
     "start_time": "2024-05-14T03:56:52.866670300Z"
    }
   },
   "outputs": [],
   "source": [
    "geoframe.crs"
   ]
  },
  {
   "cell_type": "code",
   "execution_count": 139,
   "metadata": {
    "ExecuteTime": {
     "start_time": "2024-05-14T03:56:52.873665800Z"
    }
   },
   "outputs": [
    {
     "ename": "NameError",
     "evalue": "name 'geoframe' is not defined",
     "output_type": "error",
     "traceback": [
      "\u001B[1;31m---------------------------------------------------------------------------\u001B[0m",
      "\u001B[1;31mNameError\u001B[0m                                 Traceback (most recent call last)",
      "Input \u001B[1;32mIn [139]\u001B[0m, in \u001B[0;36m<module>\u001B[1;34m\u001B[0m\n\u001B[1;32m----> 1\u001B[0m hermosillo \u001B[38;5;241m=\u001B[39m \u001B[43mgeoframe\u001B[49m[geoframe[\u001B[38;5;124m'\u001B[39m\u001B[38;5;124mmunicipio\u001B[39m\u001B[38;5;124m'\u001B[39m] \u001B[38;5;241m==\u001B[39m \u001B[38;5;124m'\u001B[39m\u001B[38;5;124mHermosillo\u001B[39m\u001B[38;5;124m'\u001B[39m]\n\u001B[0;32m      2\u001B[0m hermosillo\u001B[38;5;241m.\u001B[39mhead()\n",
      "\u001B[1;31mNameError\u001B[0m: name 'geoframe' is not defined"
     ]
    }
   ],
   "source": [
    "hermosillo = geoframe[geoframe['municipio'] == 'Hermosillo']\n",
    "hermosillo.head()"
   ]
  },
  {
   "cell_type": "markdown",
   "metadata": {},
   "source": [
    "Mapa de prueba AGEBS"
   ]
  },
  {
   "cell_type": "code",
   "execution_count": null,
   "metadata": {
    "ExecuteTime": {
     "end_time": "2024-05-14T03:56:52.982662100Z",
     "start_time": "2024-05-14T03:56:52.913670100Z"
    }
   },
   "outputs": [],
   "source": [
    "m = folium.Map(location=[29.082560, -110.963663], zoom_start=12)\n",
    "style_function = lambda x: {\n",
    "    'fillColor':'#e5e2cf',\n",
    "    'color': 'black',\n",
    "    'weight':0.5,\n",
    "    'fillOpacity':0.5\n",
    "}\n",
    "hermosillogeo = folium.GeoJson(\n",
    "    hermosillo['geometry'],\n",
    "    name='AGEBS Hermosillo',\n",
    "    style_function=style_function\n",
    "    \n",
    ").add_to(m)\n",
    "\n",
    "#tooltip=folium.GeoJsonTooltip(\n",
    "#        fields=['clave', 'localidad'],\n",
    "#        aliases=['AGEB:', 'Población:'], \n",
    "#        localize=True)"
   ]
  },
  {
   "cell_type": "code",
   "execution_count": 140,
   "metadata": {
    "ExecuteTime": {
     "start_time": "2024-05-14T03:56:52.926667600Z"
    }
   },
   "outputs": [
    {
     "ename": "NameError",
     "evalue": "name 'm' is not defined",
     "output_type": "error",
     "traceback": [
      "\u001B[1;31m---------------------------------------------------------------------------\u001B[0m",
      "\u001B[1;31mNameError\u001B[0m                                 Traceback (most recent call last)",
      "Input \u001B[1;32mIn [140]\u001B[0m, in \u001B[0;36m<module>\u001B[1;34m\u001B[0m\n\u001B[1;32m----> 1\u001B[0m \u001B[43mm\u001B[49m\n",
      "\u001B[1;31mNameError\u001B[0m: name 'm' is not defined"
     ]
    }
   ],
   "source": [
    "m"
   ]
  },
  {
   "cell_type": "markdown",
   "metadata": {},
   "source": [
    "## Colonias de Hermosillo"
   ]
  },
  {
   "cell_type": "code",
   "outputs": [],
   "source": [],
   "metadata": {
    "collapsed": false,
    "ExecuteTime": {
     "end_time": "2024-05-14T03:56:53.061663900Z",
     "start_time": "2024-05-14T03:56:52.992663600Z"
    }
   },
   "execution_count": 140
  },
  {
   "cell_type": "code",
   "execution_count": 141,
   "metadata": {
    "ExecuteTime": {
     "end_time": "2024-05-14T03:56:53.110668500Z",
     "start_time": "2024-05-14T03:56:53.057669300Z"
    }
   },
   "outputs": [
    {
     "ename": "ModuleNotFoundError",
     "evalue": "No module named 'geopandas'",
     "output_type": "error",
     "traceback": [
      "\u001B[1;31m---------------------------------------------------------------------------\u001B[0m",
      "\u001B[1;31mModuleNotFoundError\u001B[0m                       Traceback (most recent call last)",
      "Input \u001B[1;32mIn [141]\u001B[0m, in \u001B[0;36m<module>\u001B[1;34m\u001B[0m\n\u001B[0;32m      1\u001B[0m \u001B[38;5;28;01mimport\u001B[39;00m \u001B[38;5;21;01mos\u001B[39;00m\n\u001B[1;32m----> 2\u001B[0m \u001B[38;5;28;01mimport\u001B[39;00m \u001B[38;5;21;01mgeopandas\u001B[39;00m \u001B[38;5;28;01mas\u001B[39;00m \u001B[38;5;21;01mgpd\u001B[39;00m\n",
      "\u001B[1;31mModuleNotFoundError\u001B[0m: No module named 'geopandas'"
     ]
    }
   ],
   "source": [
    "import os\n",
    "import geopandas as gpd"
   ]
  },
  {
   "cell_type": "code",
   "execution_count": null,
   "metadata": {
    "ExecuteTime": {
     "start_time": "2024-05-14T03:56:53.085669100Z"
    }
   },
   "outputs": [],
   "source": [
    "#path_geojson = '/Users/federicocirettgalan/Documents/proyectos_vscode/registros'\n",
    "#archivo_geojson = os.path.join(path_geojson,\"geojson_colonias_de_hermosillo.json\")\n",
    "archivo_geojson = \"geojson_colonias_de_hermosillo.json\"\n",
    "geoframe_colonias = gpd.read_file(archivo_geojson,driver=\"GeoJSON\",crs=\"EPSG:4326\")\n",
    "\n",
    "geoframe_colonias['centroid'] = geoframe.centroid\n",
    "centroids = geoframe_colonias[['centroid','poblacion']].copy()\n",
    "geoframe_colonias.drop(['centroid'],axis=1,inplace=True)"
   ]
  },
  {
   "cell_type": "code",
   "execution_count": 142,
   "metadata": {
    "ExecuteTime": {
     "start_time": "2024-05-14T03:56:53.094669900Z"
    }
   },
   "outputs": [
    {
     "ename": "NameError",
     "evalue": "name 'folium' is not defined",
     "output_type": "error",
     "traceback": [
      "\u001B[1;31m---------------------------------------------------------------------------\u001B[0m",
      "\u001B[1;31mNameError\u001B[0m                                 Traceback (most recent call last)",
      "Input \u001B[1;32mIn [142]\u001B[0m, in \u001B[0;36m<module>\u001B[1;34m\u001B[0m\n\u001B[1;32m----> 1\u001B[0m mc \u001B[38;5;241m=\u001B[39m \u001B[43mfolium\u001B[49m\u001B[38;5;241m.\u001B[39mMap(location\u001B[38;5;241m=\u001B[39m[\u001B[38;5;241m29.082560\u001B[39m, \u001B[38;5;241m-\u001B[39m\u001B[38;5;241m110.963663\u001B[39m], zoom_start\u001B[38;5;241m=\u001B[39m\u001B[38;5;241m12\u001B[39m)\n\u001B[0;32m      2\u001B[0m style_function \u001B[38;5;241m=\u001B[39m \u001B[38;5;28;01mlambda\u001B[39;00m x: {\n\u001B[0;32m      3\u001B[0m     \u001B[38;5;124m'\u001B[39m\u001B[38;5;124mfillColor\u001B[39m\u001B[38;5;124m'\u001B[39m:\u001B[38;5;124m'\u001B[39m\u001B[38;5;124m#e5e2cf\u001B[39m\u001B[38;5;124m'\u001B[39m,\n\u001B[0;32m      4\u001B[0m     \u001B[38;5;124m'\u001B[39m\u001B[38;5;124mcolor\u001B[39m\u001B[38;5;124m'\u001B[39m: \u001B[38;5;124m'\u001B[39m\u001B[38;5;124mblack\u001B[39m\u001B[38;5;124m'\u001B[39m,\n\u001B[0;32m      5\u001B[0m     \u001B[38;5;124m'\u001B[39m\u001B[38;5;124mweight\u001B[39m\u001B[38;5;124m'\u001B[39m:\u001B[38;5;241m0.5\u001B[39m,\n\u001B[0;32m      6\u001B[0m     \u001B[38;5;124m'\u001B[39m\u001B[38;5;124mfillOpacity\u001B[39m\u001B[38;5;124m'\u001B[39m:\u001B[38;5;241m0.5\u001B[39m\n\u001B[0;32m      7\u001B[0m }\n\u001B[0;32m      8\u001B[0m hermosillocols \u001B[38;5;241m=\u001B[39m folium\u001B[38;5;241m.\u001B[39mGeoJson(\n\u001B[0;32m      9\u001B[0m     geoframe_colonias[\u001B[38;5;124m'\u001B[39m\u001B[38;5;124mgeometry\u001B[39m\u001B[38;5;124m'\u001B[39m],\n\u001B[0;32m     10\u001B[0m     name\u001B[38;5;241m=\u001B[39m\u001B[38;5;124m'\u001B[39m\u001B[38;5;124mColonias Hermosillo\u001B[39m\u001B[38;5;124m'\u001B[39m,\n\u001B[0;32m     11\u001B[0m     style_function\u001B[38;5;241m=\u001B[39mstyle_function\n\u001B[0;32m     12\u001B[0m     \n\u001B[0;32m     13\u001B[0m )\u001B[38;5;241m.\u001B[39madd_to(mc)\n",
      "\u001B[1;31mNameError\u001B[0m: name 'folium' is not defined"
     ]
    }
   ],
   "source": [
    "mc = folium.Map(location=[29.082560, -110.963663], zoom_start=12)\n",
    "style_function = lambda x: {\n",
    "    'fillColor':'#e5e2cf',\n",
    "    'color': 'black',\n",
    "    'weight':0.5,\n",
    "    'fillOpacity':0.5\n",
    "}\n",
    "hermosillocols = folium.GeoJson(\n",
    "    geoframe_colonias['geometry'],\n",
    "    name='Colonias Hermosillo',\n",
    "    style_function=style_function\n",
    "    \n",
    ").add_to(mc)\n",
    "mc"
   ]
  },
  {
   "cell_type": "code",
   "execution_count": null,
   "metadata": {
    "ExecuteTime": {
     "end_time": "2024-05-14T03:56:53.146661800Z",
     "start_time": "2024-05-14T03:56:53.131663Z"
    }
   },
   "outputs": [],
   "source": [
    "folium.GeoJson(\n",
    "    hermosillo['centroide'],\n",
    "    name='AGEBS Hermosillo',\n",
    "    style_function=style_function,\n",
    "    marker=folium.CircleMarker(radius=2,color='red',fill_color='red',fill_opacity=0.5)\n",
    "    \n",
    "           \n",
    "    \n",
    ").add_to(mc)"
   ]
  },
  {
   "cell_type": "code",
   "execution_count": 143,
   "metadata": {
    "ExecuteTime": {
     "end_time": "2024-05-14T03:56:53.200664500Z",
     "start_time": "2024-05-14T03:56:53.152675900Z"
    }
   },
   "outputs": [
    {
     "ename": "NameError",
     "evalue": "name 'mc' is not defined",
     "output_type": "error",
     "traceback": [
      "\u001B[1;31m---------------------------------------------------------------------------\u001B[0m",
      "\u001B[1;31mNameError\u001B[0m                                 Traceback (most recent call last)",
      "Input \u001B[1;32mIn [143]\u001B[0m, in \u001B[0;36m<module>\u001B[1;34m\u001B[0m\n\u001B[1;32m----> 1\u001B[0m \u001B[43mmc\u001B[49m\n",
      "\u001B[1;31mNameError\u001B[0m: name 'mc' is not defined"
     ]
    }
   ],
   "source": [
    "mc"
   ]
  },
  {
   "cell_type": "code",
   "execution_count": null,
   "metadata": {
    "ExecuteTime": {
     "start_time": "2024-05-14T03:56:53.176668500Z"
    }
   },
   "outputs": [],
   "source": [
    "geoframe_colonias.head()"
   ]
  },
  {
   "cell_type": "code",
   "execution_count": 144,
   "metadata": {
    "ExecuteTime": {
     "end_time": "2024-05-14T03:56:53.272666300Z",
     "start_time": "2024-05-14T03:56:53.231679500Z"
    }
   },
   "outputs": [
    {
     "ename": "NameError",
     "evalue": "name 'hermosillo' is not defined",
     "output_type": "error",
     "traceback": [
      "\u001B[1;31m---------------------------------------------------------------------------\u001B[0m",
      "\u001B[1;31mNameError\u001B[0m                                 Traceback (most recent call last)",
      "Input \u001B[1;32mIn [144]\u001B[0m, in \u001B[0;36m<module>\u001B[1;34m\u001B[0m\n\u001B[0;32m      2\u001B[0m dagebs \u001B[38;5;241m=\u001B[39m {}\n\u001B[0;32m      3\u001B[0m lista_agebs_sin_colonias \u001B[38;5;241m=\u001B[39m []\n\u001B[1;32m----> 4\u001B[0m \u001B[38;5;28;01mfor\u001B[39;00m rowageb \u001B[38;5;129;01min\u001B[39;00m \u001B[43mhermosillo\u001B[49m\u001B[38;5;241m.\u001B[39miterrows():\n\u001B[0;32m      5\u001B[0m     cent_ageb \u001B[38;5;241m=\u001B[39m rowageb[\u001B[38;5;241m1\u001B[39m][\u001B[38;5;124m'\u001B[39m\u001B[38;5;124mcentroide\u001B[39m\u001B[38;5;124m'\u001B[39m]\n\u001B[0;32m      6\u001B[0m     clave_ageb \u001B[38;5;241m=\u001B[39m rowageb[\u001B[38;5;241m1\u001B[39m][\u001B[38;5;124m'\u001B[39m\u001B[38;5;124mclave\u001B[39m\u001B[38;5;124m'\u001B[39m]\n",
      "\u001B[1;31mNameError\u001B[0m: name 'hermosillo' is not defined"
     ]
    }
   ],
   "source": [
    "dcolonias = {}\n",
    "dagebs = {}\n",
    "lista_agebs_sin_colonias = []\n",
    "for rowageb in hermosillo.iterrows():\n",
    "    cent_ageb = rowageb[1]['centroide']\n",
    "    clave_ageb = rowageb[1]['clave']\n",
    "    #print(clave_ageb, cent_ageb)\n",
    "    for rowcol in geoframe_colonias.iterrows():\n",
    "        polygon = rowcol[1]['geometry']\n",
    "        if polygon.contains(cent_ageb):\n",
    "            dcolonias[clave_ageb] = rowcol[1]['nombre']\n",
    "            if rowcol[1]['nombre'] in dagebs:\n",
    "                dagebs[rowcol[1]['nombre']].append(clave_ageb)\n",
    "            else:\n",
    "                dagebs[rowcol[1]['nombre']] = [clave_ageb]\n",
    "            break\n",
    "    if clave_ageb not in dcolonias:\n",
    "        lista_agebs_sin_colonias.append(clave_ageb)\n",
    "    "
   ]
  },
  {
   "cell_type": "code",
   "execution_count": null,
   "metadata": {
    "ExecuteTime": {
     "start_time": "2024-05-14T03:56:53.242674500Z"
    }
   },
   "outputs": [],
   "source": [
    "len(lista_agebs_sin_colonias)"
   ]
  },
  {
   "cell_type": "code",
   "execution_count": 145,
   "metadata": {
    "ExecuteTime": {
     "end_time": "2024-05-14T03:56:53.319661Z",
     "start_time": "2024-05-14T03:56:53.278675400Z"
    }
   },
   "outputs": [],
   "source": [
    "for k, v in dagebs.items():\n",
    "    print(k, v)"
   ]
  }
 ],
 "metadata": {
  "interpreter": {
   "hash": "10cfacb80c9c83124794ff1f98634373230ea977c40fc7edacd0b9c73eeeecca"
  },
  "kernelspec": {
   "display_name": "Python 3.9.7 ('ai')",
   "language": "python",
   "name": "python3"
  },
  "language_info": {
   "codemirror_mode": {
    "name": "ipython",
    "version": 3
   },
   "file_extension": ".py",
   "mimetype": "text/x-python",
   "name": "python",
   "nbconvert_exporter": "python",
   "pygments_lexer": "ipython3",
   "version": "3.9.7"
  },
  "orig_nbformat": 4
 },
 "nbformat": 4,
 "nbformat_minor": 2
}
